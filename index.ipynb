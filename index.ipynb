{
 "cells": [
  {
   "cell_type": "markdown",
   "metadata": {},
   "source": [
    "# Probability Density Functions Lab\n",
    "\n",
    "## Problem Statement\n",
    "\n",
    "In this lab, we'll learn how to use Probability Density Functions (PDFs) to explore our data set.  We'll also dive deep into calculating the mean, median, mode, and trimmed mean, and explore how each are influenced by outliers.  \n",
    "\n",
    "### Objectives\n",
    "* Compare and constrast the following Measures of Center: \n",
    "    * Mean\n",
    "    * Median\n",
    "    * Mode\n",
    "    * Trimmed Mean\n",
    "* Demonstrate the effect outlier values has on each\n",
    "* Calculate each Measure of Center manually \n",
    "* Use numpy to calculate each Measure of Center\n",
    "\n",
    "Run the cell below to import everything we'll need for this lab. "
   ]
  },
  {
   "cell_type": "code",
   "execution_count": 13,
   "metadata": {},
   "outputs": [],
   "source": [
    "import numpy as np\n",
    "import matplotlib.pyplot as plt\n",
    "import seaborn as sns\n",
    "%matplotlib inline\n",
    "# Set a seed for reproducibility--don't change it, or you'll break things!\n",
    "np.random.seed(1)"
   ]
  },
  {
   "cell_type": "markdown",
   "metadata": {},
   "source": [
    "We'll start by creating a synthetic dataset to work with.  This dataset will be normally distributed.   \n",
    "\n",
    "In the cell below:\n",
    "\n",
    "**1.** Use numpy's [`random.normal()`](https://docs.scipy.org/doc/numpy/reference/generated/numpy.random.normal.html) function to create a data set of `size=100`.    \n",
    "<br>\n",
    "**2.** Then, append the value `1.2` to our `data` array 5 times (we'll need this so that we can calculate a _mode_ later on).  Use the `np.append()` method and pass in the `data` variable, as well as an array containing `[1.2, 1.2, 1.2, 1.2, 1.2]`.  If you have trouble, take a look at the [documentation](https://docs.scipy.org/doc/numpy-1.14.0/reference/generated/numpy.append.html) for that method.  \n",
    "<br>\n",
    "**3.** Finally, use Seaborn's `sns.distplot()` method to visualize the probability density of this dataset.  "
   ]
  },
  {
   "cell_type": "code",
   "execution_count": 21,
   "metadata": {},
   "outputs": [
    {
     "name": "stderr",
     "output_type": "stream",
     "text": [
      "/opt/conda/envs/learn-env/lib/python3.6/site-packages/scipy/stats/stats.py:1713: FutureWarning: Using a non-tuple sequence for multidimensional indexing is deprecated; use `arr[tuple(seq)]` instead of `arr[seq]`. In the future this will be interpreted as an array index, `arr[np.array(seq)]`, which will result either in an error or a different result.\n",
      "  return np.add.reduce(sorted[indexer] * weights, axis=axis) / sumval\n"
     ]
    },
    {
     "data": {
      "text/plain": [
       "[-2.434837764107139,\n",
       " -1.8963609228910925,\n",
       " -1.857981864446752,\n",
       " -1.6274383406162574,\n",
       " -1.6157723547032947,\n",
       " -1.3731173202467557,\n",
       " -1.3122834112374318,\n",
       " -1.2725587552459943,\n",
       " -1.2300581356669618,\n",
       " -1.199268032335186,\n",
       " -1.1443413896231427,\n",
       " -1.1220187287468883,\n",
       " -1.0949118457410418,\n",
       " -0.997026827650263,\n",
       " -0.9537006018079346,\n",
       " -0.8595159408319863,\n",
       " -0.7751616191691596,\n",
       " -0.646916688254908,\n",
       " -0.6235307296797916,\n",
       " -0.6173620637123609,\n",
       " -0.6039206277932573,\n",
       " -0.5170944579202279,\n",
       " -0.4471285647859982,\n",
       " -0.3198015988986712,\n",
       " -0.31011677351806,\n",
       " -0.29664115237086275,\n",
       " -0.2873078634760189,\n",
       " -0.26621850600362207,\n",
       " -0.24863477771546005,\n",
       " -0.22631424251360518,\n",
       " -0.18656977190734877,\n",
       " -0.18092030207815046,\n",
       " -0.17470315974250095,\n",
       " -0.13644474389603303,\n",
       " -0.11905418777480989,\n",
       " -0.11044702641731631,\n",
       " -0.10174587252914521,\n",
       " -0.10015523328349978,\n",
       " -0.07311270374727777,\n",
       " -0.038695509266051115,\n",
       " -0.024616955875778355,\n",
       " 0.0174094083000046,\n",
       " 0.03261454669335856,\n",
       " 0.043668993178389105,\n",
       " 0.04656729842414554,\n",
       " 0.07782112791270591,\n",
       " 0.13770120999738608,\n",
       " 0.1693824330586681,\n",
       " 0.2135339013354418,\n",
       " 0.23249455917873788,\n",
       " 0.24073709223773224,\n",
       " 0.2487991613877705,\n",
       " 0.28066507712263905,\n",
       " 0.31354772046343216,\n",
       " 0.31515939204229176,\n",
       " 0.3380116965744758,\n",
       " 0.35054597866410736,\n",
       " 0.36949271637572373,\n",
       " 0.4034916417908,\n",
       " 0.4089005379368278,\n",
       " 0.42028220364705954,\n",
       " 0.44136444356858207,\n",
       " 0.4952113239779604,\n",
       " 0.5031848134353261,\n",
       " 0.5205763370733708,\n",
       " 0.5294653243527092,\n",
       " 0.5505374959762154,\n",
       " 0.5627610966190263,\n",
       " 0.593578523237067,\n",
       " 0.602319280295629,\n",
       " 0.6183802619985245,\n",
       " 0.6590497961002102,\n",
       " 0.6800698398781045,\n",
       " 0.6825514068644851,\n",
       " 0.7405564510962748,\n",
       " 0.7504116398650081,\n",
       " 0.7928068659193477,\n",
       " 0.8018610318713447,\n",
       " 0.8109516728035557,\n",
       " 0.8461606475850334,\n",
       " 0.8633453175440216,\n",
       " 0.8688861570058679,\n",
       " 0.901486891648711,\n",
       " 0.9863351878212421,\n",
       " 1.038824601859414,\n",
       " 1.0444420947072588,\n",
       " 1.1110566985605046,\n",
       " 1.121417708235664,\n",
       " 1.1603385699937696,\n",
       " 1.2,\n",
       " 1.2,\n",
       " 1.2,\n",
       " 1.2,\n",
       " 1.2,\n",
       " 1.2245077048054989,\n",
       " 1.2361640304528203,\n",
       " 1.2737559301587766,\n",
       " 1.2932258825322618,\n",
       " 1.3314571125875918,\n",
       " 1.6276507531489064,\n",
       " 1.9046587083409812,\n",
       " 1.9671017492547347,\n",
       " 2.1869796469742577,\n",
       " 2.1906997289697334,\n",
       " 2.528325706806398]"
      ]
     },
     "execution_count": 21,
     "metadata": {},
     "output_type": "execute_result"
    },
    {
     "data": {
      "image/png": "[encoded data removed]",
      "text/plain": [
       "<Figure size 432x288 with 1 Axes>"
      ]
     },
     "metadata": {
      "needs_background": "light"
     },
     "output_type": "display_data"
    }
   ],
   "source": [
    "data = np.random.normal(size = 100)\n",
    "data = np.append(data,[1.2]*5)\n",
    "sns.distplot(data)\n",
    "sorted(data)"
   ]
  },
  {
   "cell_type": "markdown",
   "metadata": {},
   "source": [
    "Great.  We'll want to plot it to make it visual, but before we can do that, we'll need to calculate some basic metrics such as the sample's **_mean_** and **_standard deviation_**. \n",
    "\n",
    "In the cell below, write a function that takes in `data` and returns the mean.\n",
    "\n",
    "Recall that the formula for the mean is: \n",
    "\n",
    "<center><img src='mean_formula.gif'></center>\n",
    "\n",
    "where:\n",
    "\n",
    "\n",
    "$\\large \\bar{x} = Sample\\ Mean$\n",
    "\n",
    "$\\large N = Length\\ of\\ Dataset$\n",
    "\n",
    "In the cell below, write a function that takes in an array of numbers and returns the mean of the data.  \n",
    "\n",
    "Then, test that it works by using it on the `data` variable that we created above!"
   ]
  },
  {
   "cell_type": "code",
   "execution_count": 15,
   "metadata": {},
   "outputs": [
    {
     "name": "stdout",
     "output_type": "stream",
     "text": [
      "10.0\n",
      "2.0\n",
      "0.11484081150066543\n"
     ]
    }
   ],
   "source": [
    "def get_mean(data):\n",
    "    return np.sum(data)/len(data)\n",
    "\n",
    "test1 = [5, 10, 15]\n",
    "test2 = [1, 2, 3]\n",
    "print(get_mean(test1)) # 10.0\n",
    "print(get_mean(test2)) # 2.0\n",
    "print(get_mean(data)) # 0.11410287193760468"
   ]
  },
  {
   "cell_type": "markdown",
   "metadata": {},
   "source": [
    "Great! Now that we have the mean, we just need to calculate the standard deviation. Our next lab is all about standard deviation and variance, so we'll leave the manual calculations for that lab and just use numpy for this one. \n",
    "\n",
    "Use the correct numpy function to calculate the standard deviation of `data` in the cell below. "
   ]
  },
  {
   "cell_type": "code",
   "execution_count": 16,
   "metadata": {},
   "outputs": [
    {
     "name": "stdout",
     "output_type": "stream",
     "text": [
      "Standard Deviation: 0.897257\n"
     ]
    }
   ],
   "source": [
    "print(f\"Standard Deviation: {data.std():.6}\")"
   ]
  },
  {
   "cell_type": "markdown",
   "metadata": {},
   "source": [
    "**Expected Output:** Standard Deviation: 1.01312\n",
    "\n",
    "We'll go deeper into Standard Deviation and Variance in a later lab.  For now, it's just good to see what it is--we should never consider a mean value of a sample without also taking a look at the standard deviation!"
   ]
  },
  {
   "cell_type": "markdown",
   "metadata": {},
   "source": [
    "### Calculating the Median\n",
    "\n",
    "The median is the value directly in the middle of the a dataset--in statistical terms, this is the median quartile. If the dataset was sorted from lowest value to highest value, the median is the value that would be larger than the first 50% of the data, and smaller than the second 50%.  \n",
    "\n",
    "If the dataset has an odd number of values, then the median is the middle number.   \n",
    "\n",
    "If the datasaet has an even number of values, then we take the mean of the middle two numbers. \n",
    "\n",
    "In the cell below, write a function that takes in an array of numbers and returns the median value for that dataset.  "
   ]
  },
  {
   "cell_type": "code",
   "execution_count": 17,
   "metadata": {},
   "outputs": [
    {
     "name": "stdout",
     "output_type": "stream",
     "text": [
      "3\n",
      "2.5\n",
      "0.12015895248162915\n"
     ]
    }
   ],
   "source": [
    "def get_median(data):\n",
    "    data_sorted = sorted(data)\n",
    "    if len(data_sorted)%2:\n",
    "        return data_sorted[len(data_sorted)//2]\n",
    "    else:\n",
    "        return (data_sorted[len(data_sorted)//2-1]+data_sorted[len(data_sorted)//2])/2\n",
    "\n",
    "test1 = [5, 4, 1, 3, 2]\n",
    "test2 = [4, 2, 3, 1]\n",
    "\n",
    "print(get_median(test1)) # 3\n",
    "print(get_median(test2)) # 2.5\n",
    "print(get_median(data)) # 0.12898291075741067"
   ]
  },
  {
   "cell_type": "markdown",
   "metadata": {},
   "source": [
    "### Calculating the Mode\n",
    "\n",
    "The mode is the value that shows up the most in a dataset.  A dataset can have 0 or more modes.  If no value shows up more than once, the dataset is considered to have no mode value.  If two numbers show up the same number of times, that dataset is considered **_bimodal_**.  Datasets where multiple values all show up the same number of times are considered **_multimodal_**.\n",
    "\n",
    "In the cell below, write a function that takes in an array of numbers and returns another array containing the mode value(s).  \n",
    "\n",
    "**_Hint_**: Building a histogram (also called a frequency distribution) with a dictionary is probably the easiest way to approach this problem!"
   ]
  },
  {
   "cell_type": "code",
   "execution_count": 18,
   "metadata": {},
   "outputs": [
    {
     "name": "stdout",
     "output_type": "stream",
     "text": [
      "[5]\n",
      "[1, 5]\n",
      "[1.2]\n"
     ]
    }
   ],
   "source": [
    "import collections \n",
    "def get_mode(data):\n",
    "    counter = collections.Counter(data)\n",
    "    ans = []\n",
    "    for key, value in counter.items():\n",
    "        if counter[key] == max(counter.values()):\n",
    "            ans.append(key)\n",
    "    return ans\n",
    "\n",
    "test1 = [1, 2, 3, 5, 5, 4]\n",
    "test2 = [1, 1, 1, 2, 3, 4, 5, 5, 5]\n",
    "print(get_mode(test1)) # [5]\n",
    "print(get_mode(test2)) # [1, 5]\n",
    "print(get_mode(data)) # [1.2]"
   ]
  },
  {
   "cell_type": "markdown",
   "metadata": {},
   "source": [
    "### How Outliers Affect Mean, Median, and Mode\n",
    "\n",
    "The dataset that we created for this lab is fairly normally distributed, and doesn't contain any outliers. However, in the real world, we rarely have the luxury of working with outlier-free datasets.  In the cell below, we're going to write a function that helps us measure how much the mean, median, and mode are affected by outlier values.  \n",
    "\n",
    "Write a function that takes in an array of numbers and an outlier value.  This function should calculate the mean, median, and mode values for the dataset, add the outlier to the dataset, and then recalculate the mean, median and mode values.  This function should return the amount the mean, median, and mode values were skewed by the outlier value (in that order).\n",
    "\n",
    "**_Bonus_**: In the function, after adding in our outlier value, visualize the new distribution of the data as we did up above so we can see how the outlier has skewed the distribution.  "
   ]
  },
  {
   "cell_type": "code",
   "execution_count": 19,
   "metadata": {},
   "outputs": [
    {
     "name": "stderr",
     "output_type": "stream",
     "text": [
      "/opt/conda/envs/learn-env/lib/python3.6/site-packages/scipy/stats/stats.py:1713: FutureWarning: Using a non-tuple sequence for multidimensional indexing is deprecated; use `arr[tuple(seq)]` instead of `arr[seq]`. In the future this will be interpreted as an array index, `arr[np.array(seq)]`, which will result either in an error or a different result.\n",
      "  return np.add.reduce(sorted[indexer] * weights, axis=axis) / sumval\n"
     ]
    },
    {
     "name": "stdout",
     "output_type": "stream",
     "text": [
      "Effect outlier had on mean: 0.1875958414009371\n",
      "Effect outlier had on median: 0.0008311592549038876\n",
      "Effect outlier had on mode: 0.0\n"
     ]
    },
    {
     "data": {
      "image/png": "[encoded data removed]",
      "text/plain": [
       "<Figure size 432x288 with 1 Axes>"
      ]
     },
     "metadata": {
      "needs_background": "light"
     },
     "output_type": "display_data"
    }
   ],
   "source": [
    "def check_outlier_effect(data, outlier):\n",
    "    sns.distplot(np.append(data,[outlier]))\n",
    "    b_avg = get_mean(data)\n",
    "    a_avg = get_mean(np.append(data,[outlier]))\n",
    "    b_median = get_median(data)\n",
    "    a_median = get_median(np.append(data,[outlier]))\n",
    "    b_mode = get_mode(data)[0]\n",
    "    a_mode = get_mode(np.append(data,[outlier]))[0]\n",
    "    return a_avg-b_avg, a_median-b_median, a_mode-b_mode\n",
    "    \n",
    "\n",
    "mean_effect, median_effect, mode_effect = check_outlier_effect(data, 20)\n",
    "print(\"Effect outlier had on mean: {}\".format(mean_effect))\n",
    "print(\"Effect outlier had on median: {}\".format(median_effect))\n",
    "print(\"Effect outlier had on mode: {}\".format(mode_effect))"
   ]
  },
  {
   "cell_type": "raw",
   "metadata": {},
   "source": [
    "##### **_Expected Output:_**\n",
    "\n",
    "```Effect outlier had on mean: 0.1876028030949283\n",
    "Effect outlier had on median: 0.007530330201733659\n",
    "Effect outlier had on mode: 0.0```\n",
    "\n",
    "As we can see from the output:\n",
    "\n",
    "* The mean is heavily influenced by outliers.\n",
    "* The median is only slightly influenced by outliers.\n",
    "* The mode is not influenced by outliers at all!\n",
    "\n",
    "### Dealing with Outliers: Calculating the Trimmed Mean\n",
    "\n",
    "One way to make use of the mean while protecting from outliers it to calculate the **_Trimmed Mean_**.  The trimmed mean avoids being influenced by outlier values by cutting off pre-set amounts from the low and high ends of the data distribution.  For instance, if we wanted to calculate the Trimmed mean of 5%, we would drop the 5% lowest values and 5% highest values, and then calculate the mean of the remaining data.  This is a great way to protect ourselves from outlier values when we need to make use of the mean on datasets that contain many outliers.  Note that the `trim` value is a parameter we can choose--if our dataset is particularly noisy, we may choose to trim 10% or 15%.  \n",
    "\n",
    "In the cell below, write a function that takes in an array of data and calculates the trimmed mean, with a default value of 5%. "
   ]
  },
  {
   "cell_type": "code",
   "execution_count": 35,
   "metadata": {},
   "outputs": [
    {
     "name": "stdout",
     "output_type": "stream",
     "text": [
      "0.20983266808882398\n"
     ]
    }
   ],
   "source": [
    "def get_trimmed_mean(data, trim=.05):\n",
    "#     print(sorted(data))\n",
    "    ind = int(len(data)*trim)\n",
    "#     print(ind)\n",
    "    data_trimmed = sorted(data)[ind:-ind]\n",
    "#     print(data_trimmed)\n",
    "    return get_mean(data_trimmed)\n",
    "\n",
    "# trimmed_mean_test = [-10, 1, 1, 2, 3, 4, 5, 5, 6, 20] # trim = .10\n",
    "# print(get_trimmed_mean(trimmed_mean_test, .10)) # 3.375\n",
    "print(get_trimmed_mean(data)) # -0.013374707098353195"
   ]
  },
  {
   "cell_type": "code",
   "execution_count": 31,
   "metadata": {},
   "outputs": [
    {
     "data": {
      "text/plain": [
       "0.20266169297161762"
      ]
     },
     "execution_count": 31,
     "metadata": {},
     "output_type": "execute_result"
    }
   ],
   "source": [
    "get_mean(data)"
   ]
  },
  {
   "cell_type": "code",
   "execution_count": 34,
   "metadata": {},
   "outputs": [
    {
     "name": "stdout",
     "output_type": "stream",
     "text": [
      "0.15368358213382657\n"
     ]
    }
   ],
   "source": [
    "def get_trimmed_mean(data, trim=.05):\n",
    "    lower_bound = int(np.round(len(data) * trim))\n",
    "    upper_bound = int(np.round(len(data) * (1 - trim)))\n",
    "    \n",
    "    data = data[lower_bound:upper_bound]\n",
    "    return get_mean(data)\n",
    "print(get_trimmed_mean(data))"
   ]
  },
  {
   "cell_type": "markdown",
   "metadata": {},
   "source": [
    "### Conclusion\n",
    "In this lab, we learned:\n",
    "* How to calculate the mean, and how it is used\n",
    "* How to calculate the median, and how it is used\n",
    "* How to calculate the mode, and how it is used\n",
    "* How to calculate the trimmed mean, and why it is more resistant to outliers  "
   ]
  }
 ],
 "metadata": {
  "kernelspec": {
   "display_name": "Python 3",
   "language": "python",
   "name": "python3"
  },
  "language_info": {
   "codemirror_mode": {
    "name": "ipython",
    "version": 3
   },
   "file_extension": ".py",
   "mimetype": "text/x-python",
   "name": "python",
   "nbconvert_exporter": "python",
   "pygments_lexer": "ipython3",
   "version": "3.6.6"
  }
 },
 "nbformat": 4,
 "nbformat_minor": 2
}

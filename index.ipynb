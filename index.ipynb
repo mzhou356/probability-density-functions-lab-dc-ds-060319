{
 "cells": [
  {
   "cell_type": "markdown",
   "metadata": {},
   "source": [
    "# Probability Density Functions Lab\n",
    "\n",
    "## Problem Statement\n",
    "\n",
    "In this lab, we'll learn how to use Probability Density Functions (PDFs) to explore our data set.  We'll also dive deep into calculating the mean, median, mode, and trimmed mean, and explore how each are influenced by outliers.  \n",
    "\n",
    "### Objectives\n",
    "* Compare and constrast the following Measures of Center: \n",
    "    * Mean\n",
    "    * Median\n",
    "    * Mode\n",
    "    * Trimmed Mean\n",
    "* Demonstrate the effect outlier values has on each\n",
    "* Calculate each Measure of Center manually \n",
    "* Use numpy to calculate each Measure of Center\n",
    "\n",
    "Run the cell below to import everything we'll need for this lab. "
   ]
  },
  {
   "cell_type": "code",
   "execution_count": 13,
   "metadata": {},
   "outputs": [],
   "source": [
    "import numpy as np\n",
    "import matplotlib.pyplot as plt\n",
    "import seaborn as sns\n",
    "%matplotlib inline\n",
    "# Set a seed for reproducibility--don't change it, or you'll break things!\n",
    "np.random.seed(1)"
   ]
  },
  {
   "cell_type": "markdown",
   "metadata": {},
   "source": [
    "We'll start by creating a synthetic dataset to work with.  This dataset will be normally distributed.   \n",
    "\n",
    "In the cell below:\n",
    "\n",
    "**1.** Use numpy's [`random.normal()`](https://docs.scipy.org/doc/numpy/reference/generated/numpy.random.normal.html) function to create a data set of `size=100`.    \n",
    "<br>\n",
    "**2.** Then, append the value `1.2` to our `data` array 5 times (we'll need this so that we can calculate a _mode_ later on).  Use the `np.append()` method and pass in the `data` variable, as well as an array containing `[1.2, 1.2, 1.2, 1.2, 1.2]`.  If you have trouble, take a look at the [documentation](https://docs.scipy.org/doc/numpy-1.14.0/reference/generated/numpy.append.html) for that method.  \n",
    "<br>\n",
    "**3.** Finally, use Seaborn's `sns.distplot()` method to visualize the probability density of this dataset.  "
   ]
  },
  {
   "cell_type": "code",
   "execution_count": 14,
   "metadata": {},
   "outputs": [
    {
     "name": "stderr",
     "output_type": "stream",
     "text": [
      "/opt/conda/envs/learn-env/lib/python3.6/site-packages/scipy/stats/stats.py:1713: FutureWarning: Using a non-tuple sequence for multidimensional indexing is deprecated; use `arr[tuple(seq)]` instead of `arr[seq]`. In the future this will be interpreted as an array index, `arr[np.array(seq)]`, which will result either in an error or a different result.\n",
      "  return np.add.reduce(sorted[indexer] * weights, axis=axis) / sumval\n"
     ]
    },
    {
     "data": {
      "text/plain": [
       "array([ 1.62434536, -0.61175641, -0.52817175, -1.07296862,  0.86540763,\n",
       "       -2.3015387 ,  1.74481176, -0.7612069 ,  0.3190391 , -0.24937038,\n",
       "        1.46210794, -2.06014071, -0.3224172 , -0.38405435,  1.13376944,\n",
       "       -1.09989127, -0.17242821, -0.87785842,  0.04221375,  0.58281521,\n",
       "       -1.10061918,  1.14472371,  0.90159072,  0.50249434,  0.90085595,\n",
       "       -0.68372786, -0.12289023, -0.93576943, -0.26788808,  0.53035547,\n",
       "       -0.69166075, -0.39675353, -0.6871727 , -0.84520564, -0.67124613,\n",
       "       -0.0126646 , -1.11731035,  0.2344157 ,  1.65980218,  0.74204416,\n",
       "       -0.19183555, -0.88762896, -0.74715829,  1.6924546 ,  0.05080775,\n",
       "       -0.63699565,  0.19091548,  2.10025514,  0.12015895,  0.61720311,\n",
       "        0.30017032, -0.35224985, -1.1425182 , -0.34934272, -0.20889423,\n",
       "        0.58662319,  0.83898341,  0.93110208,  0.28558733,  0.88514116,\n",
       "       -0.75439794,  1.25286816,  0.51292982, -0.29809284,  0.48851815,\n",
       "       -0.07557171,  1.13162939,  1.51981682,  2.18557541, -1.39649634,\n",
       "       -1.44411381, -0.50446586,  0.16003707,  0.87616892,  0.31563495,\n",
       "       -2.02220122, -0.30620401,  0.82797464,  0.23009474,  0.76201118,\n",
       "       -0.22232814, -0.20075807,  0.18656139,  0.41005165,  0.19829972,\n",
       "        0.11900865, -0.67066229,  0.37756379,  0.12182127,  1.12948391,\n",
       "        1.19891788,  0.18515642, -0.37528495, -0.63873041,  0.42349435,\n",
       "        0.07734007, -0.34385368,  0.04359686, -0.62000084,  0.69803203,\n",
       "        1.2       ,  1.2       ,  1.2       ,  1.2       ,  1.2       ])"
      ]
     },
     "execution_count": 14,
     "metadata": {},
     "output_type": "execute_result"
    },
    {
     "data": {
      "image/png": "[encoded data removed]",
      "text/plain": [
       "<Figure size 432x288 with 1 Axes>"
      ]
     },
     "metadata": {
      "needs_background": "light"
     },
     "output_type": "display_data"
    }
   ],
   "source": [
    "data = np.random.normal(size = 100)\n",
    "data = np.append(data,[1.2]*5)\n",
    "sns.distplot(data)\n",
    "data"
   ]
  },
  {
   "cell_type": "markdown",
   "metadata": {},
   "source": [
    "Great.  We'll want to plot it to make it visual, but before we can do that, we'll need to calculate some basic metrics such as the sample's **_mean_** and **_standard deviation_**. \n",
    "\n",
    "In the cell below, write a function that takes in `data` and returns the mean.\n",
    "\n",
    "Recall that the formula for the mean is: \n",
    "\n",
    "<center><img src='mean_formula.gif'></center>\n",
    "\n",
    "where:\n",
    "\n",
    "\n",
    "$\\large \\bar{x} = Sample\\ Mean$\n",
    "\n",
    "$\\large N = Length\\ of\\ Dataset$\n",
    "\n",
    "In the cell below, write a function that takes in an array of numbers and returns the mean of the data.  \n",
    "\n",
    "Then, test that it works by using it on the `data` variable that we created above!"
   ]
  },
  {
   "cell_type": "code",
   "execution_count": 15,
   "metadata": {},
   "outputs": [
    {
     "name": "stdout",
     "output_type": "stream",
     "text": [
      "10.0\n",
      "2.0\n",
      "0.11484081150066543\n"
     ]
    }
   ],
   "source": [
    "def get_mean(data):\n",
    "    return np.sum(data)/len(data)\n",
    "\n",
    "test1 = [5, 10, 15]\n",
    "test2 = [1, 2, 3]\n",
    "print(get_mean(test1)) # 10.0\n",
    "print(get_mean(test2)) # 2.0\n",
    "print(get_mean(data)) # 0.11410287193760468"
   ]
  },
  {
   "cell_type": "markdown",
   "metadata": {},
   "source": [
    "Great! Now that we have the mean, we just need to calculate the standard deviation. Our next lab is all about standard deviation and variance, so we'll leave the manual calculations for that lab and just use numpy for this one. \n",
    "\n",
    "Use the correct numpy function to calculate the standard deviation of `data` in the cell below. "
   ]
  },
  {
   "cell_type": "code",
   "execution_count": 16,
   "metadata": {},
   "outputs": [
    {
     "name": "stdout",
     "output_type": "stream",
     "text": [
      "Standard Deviation: 0.897257\n"
     ]
    }
   ],
   "source": [
    "print(f\"Standard Deviation: {data.std():.6}\")"
   ]
  },
  {
   "cell_type": "markdown",
   "metadata": {},
   "source": [
    "**Expected Output:** Standard Deviation: 1.01312\n",
    "\n",
    "We'll go deeper into Standard Deviation and Variance in a later lab.  For now, it's just good to see what it is--we should never consider a mean value of a sample without also taking a look at the standard deviation!"
   ]
  },
  {
   "cell_type": "markdown",
   "metadata": {},
   "source": [
    "### Calculating the Median\n",
    "\n",
    "The median is the value directly in the middle of the a dataset--in statistical terms, this is the median quartile. If the dataset was sorted from lowest value to highest value, the median is the value that would be larger than the first 50% of the data, and smaller than the second 50%.  \n",
    "\n",
    "If the dataset has an odd number of values, then the median is the middle number.   \n",
    "\n",
    "If the datasaet has an even number of values, then we take the mean of the middle two numbers. \n",
    "\n",
    "In the cell below, write a function that takes in an array of numbers and returns the median value for that dataset.  "
   ]
  },
  {
   "cell_type": "code",
   "execution_count": 17,
   "metadata": {},
   "outputs": [
    {
     "name": "stdout",
     "output_type": "stream",
     "text": [
      "3\n",
      "2.5\n",
      "0.12015895248162915\n"
     ]
    }
   ],
   "source": [
    "def get_median(data):\n",
    "    data_sorted = sorted(data)\n",
    "    if len(data_sorted)%2:\n",
    "        return data_sorted[len(data_sorted)//2]\n",
    "    else:\n",
    "        return (data_sorted[len(data_sorted)//2-1]+data_sorted[len(data_sorted)//2])/2\n",
    "\n",
    "test1 = [5, 4, 1, 3, 2]\n",
    "test2 = [4, 2, 3, 1]\n",
    "\n",
    "print(get_median(test1)) # 3\n",
    "print(get_median(test2)) # 2.5\n",
    "print(get_median(data)) # 0.12898291075741067"
   ]
  },
  {
   "cell_type": "markdown",
   "metadata": {},
   "source": [
    "### Calculating the Mode\n",
    "\n",
    "The mode is the value that shows up the most in a dataset.  A dataset can have 0 or more modes.  If no value shows up more than once, the dataset is considered to have no mode value.  If two numbers show up the same number of times, that dataset is considered **_bimodal_**.  Datasets where multiple values all show up the same number of times are considered **_multimodal_**.\n",
    "\n",
    "In the cell below, write a function that takes in an array of numbers and returns another array containing the mode value(s).  \n",
    "\n",
    "**_Hint_**: Building a histogram (also called a frequency distribution) with a dictionary is probably the easiest way to approach this problem!"
   ]
  },
  {
   "cell_type": "code",
   "execution_count": 18,
   "metadata": {},
   "outputs": [
    {
     "name": "stdout",
     "output_type": "stream",
     "text": [
      "[5]\n",
      "[1, 5]\n",
      "[1.2]\n"
     ]
    }
   ],
   "source": [
    "import collections \n",
    "def get_mode(data):\n",
    "    counter = collections.Counter(data)\n",
    "    ans = []\n",
    "    for key, value in counter.items():\n",
    "        if counter[key] == max(counter.values()):\n",
    "            ans.append(key)\n",
    "    return ans\n",
    "\n",
    "test1 = [1, 2, 3, 5, 5, 4]\n",
    "test2 = [1, 1, 1, 2, 3, 4, 5, 5, 5]\n",
    "print(get_mode(test1)) # [5]\n",
    "print(get_mode(test2)) # [1, 5]\n",
    "print(get_mode(data)) # [1.2]"
   ]
  },
  {
   "cell_type": "markdown",
   "metadata": {},
   "source": [
    "### How Outliers Affect Mean, Median, and Mode\n",
    "\n",
    "The dataset that we created for this lab is fairly normally distributed, and doesn't contain any outliers. However, in the real world, we rarely have the luxury of working with outlier-free datasets.  In the cell below, we're going to write a function that helps us measure how much the mean, median, and mode are affected by outlier values.  \n",
    "\n",
    "Write a function that takes in an array of numbers and an outlier value.  This function should calculate the mean, median, and mode values for the dataset, add the outlier to the dataset, and then recalculate the mean, median and mode values.  This function should return the amount the mean, median, and mode values were skewed by the outlier value (in that order).\n",
    "\n",
    "**_Bonus_**: In the function, after adding in our outlier value, visualize the new distribution of the data as we did up above so we can see how the outlier has skewed the distribution.  "
   ]
  },
  {
   "cell_type": "code",
   "execution_count": 19,
   "metadata": {},
   "outputs": [
    {
     "name": "stderr",
     "output_type": "stream",
     "text": [
      "/opt/conda/envs/learn-env/lib/python3.6/site-packages/scipy/stats/stats.py:1713: FutureWarning: Using a non-tuple sequence for multidimensional indexing is deprecated; use `arr[tuple(seq)]` instead of `arr[seq]`. In the future this will be interpreted as an array index, `arr[np.array(seq)]`, which will result either in an error or a different result.\n",
      "  return np.add.reduce(sorted[indexer] * weights, axis=axis) / sumval\n"
     ]
    },
    {
     "name": "stdout",
     "output_type": "stream",
     "text": [
      "Effect outlier had on mean: 0.1875958414009371\n",
      "Effect outlier had on median: 0.0008311592549038876\n",
      "Effect outlier had on mode: 0.0\n"
     ]
    },
    {
     "data": {
      "image/png": "[encoded data removed]",
      "text/plain": [
       "<Figure size 432x288 with 1 Axes>"
      ]
     },
     "metadata": {
      "needs_background": "light"
     },
     "output_type": "display_data"
    }
   ],
   "source": [
    "def check_outlier_effect(data, outlier):\n",
    "    sns.distplot(np.append(data,[outlier]))\n",
    "    b_avg = get_mean(data)\n",
    "    a_avg = get_mean(np.append(data,[outlier]))\n",
    "    b_median = get_median(data)\n",
    "    a_median = get_median(np.append(data,[outlier]))\n",
    "    b_mode = get_mode(data)[0]\n",
    "    a_mode = get_mode(np.append(data,[outlier]))[0]\n",
    "    return a_avg-b_avg, a_median-b_median, a_mode-b_mode\n",
    "    \n",
    "\n",
    "mean_effect, median_effect, mode_effect = check_outlier_effect(data, 20)\n",
    "print(\"Effect outlier had on mean: {}\".format(mean_effect))\n",
    "print(\"Effect outlier had on median: {}\".format(median_effect))\n",
    "print(\"Effect outlier had on mode: {}\".format(mode_effect))"
   ]
  },
  {
   "cell_type": "raw",
   "metadata": {},
   "source": [
    "##### **_Expected Output:_**\n",
    "\n",
    "```Effect outlier had on mean: 0.1876028030949283\n",
    "Effect outlier had on median: 0.007530330201733659\n",
    "Effect outlier had on mode: 0.0```\n",
    "\n",
    "As we can see from the output:\n",
    "\n",
    "* The mean is heavily influenced by outliers.\n",
    "* The median is only slightly influenced by outliers.\n",
    "* The mode is not influenced by outliers at all!\n",
    "\n",
    "### Dealing with Outliers: Calculating the Trimmed Mean\n",
    "\n",
    "One way to make use of the mean while protecting from outliers it to calculate the **_Trimmed Mean_**.  The trimmed mean avoids being influenced by outlier values by cutting off pre-set amounts from the low and high ends of the data distribution.  For instance, if we wanted to calculate the Trimmed mean of 5%, we would drop the 5% lowest values and 5% highest values, and then calculate the mean of the remaining data.  This is a great way to protect ourselves from outlier values when we need to make use of the mean on datasets that contain many outliers.  Note that the `trim` value is a parameter we can choose--if our dataset is particularly noisy, we may choose to trim 10% or 15%.  \n",
    "\n",
    "In the cell below, write a function that takes in an array of data and calculates the trimmed mean, with a default value of 5%. "
   ]
  },
  {
   "cell_type": "code",
   "execution_count": 20,
   "metadata": {},
   "outputs": [
    {
     "name": "stdout",
     "output_type": "stream",
     "text": [
      "[-2.3015386968802827, -2.060140709497654, -2.022201215824003, -1.4441138054295894, -1.3964963354881377, -1.1425181980221402, -1.1173103486352778, -1.1006191772129212, -1.0998912673140309, -1.0729686221561705, -0.9357694342590688, -0.8876289640848363, -0.8778584179213718, -0.8452056414987196, -0.7612069008951028, -0.7543979409966528, -0.7471582937508376, -0.691660751725309, -0.6871727001195994, -0.6837278591743331, -0.671246130836819, -0.6706622862890306, -0.6387304074542224, -0.6369956465693534, -0.6200008439481293, -0.6117564136500754, -0.5281717522634557, -0.5044658629464512, -0.39675352685597737, -0.38405435466841564, -0.3752849500901142, -0.35224984649351865, -0.3493427224128775, -0.3438536755710756, -0.3224172040135075, -0.3062040126283718, -0.29809283510271567, -0.2678880796260159, -0.2493703754774101, -0.22232814261035927, -0.2088942333747781, -0.20075806892999745, -0.19183555236161492, -0.17242820755043575, -0.12289022551864817, -0.07557171302105573, -0.01266459891890136, 0.04221374671559283, 0.04359685683424694, 0.05080775477602897, 0.07734006834855942, 0.11900864580745882, 0.12015895248162915, 0.12182127099143693, 0.16003706944783047, 0.18515641748394385, 0.1865613909882843, 0.19091548466746602, 0.19829972012676975, 0.2300947353643834, 0.23441569781709215, 0.2855873252542588, 0.3001703199558275, 0.31563494724160523, 0.31903909605709857, 0.3775637863209194, 0.4100516472082563, 0.4234943540641129, 0.48851814653749703, 0.5024943389018682, 0.5129298204180088, 0.530355466738186, 0.5828152137158222, 0.5866231911821976, 0.6172031097074192, 0.6980320340722189, 0.7420441605773356, 0.7620111803120247, 0.8279746426072462, 0.8389834138745049, 0.8654076293246785, 0.8761689211162249, 0.8851411642707281, 0.9008559492644118, 0.9015907205927955, 0.9311020813035573, 1.1294839079119197, 1.131629387451427, 1.1337694423354374, 1.1447237098396141, 1.198917879901507, 1.2, 1.2, 1.2, 1.2, 1.2, 1.2528681552332879, 1.462107937044974, 1.5198168164221988, 1.6243453636632417, 1.6598021771098705, 1.6924546010277466, 1.74481176421648, 2.100255136478842, 2.1855754065331614]\n",
      "10\n",
      "[-0.9357694342590688, -0.8876289640848363, -0.8778584179213718, -0.8452056414987196, -0.7612069008951028, -0.7543979409966528, -0.7471582937508376, -0.691660751725309, -0.6871727001195994, -0.6837278591743331, -0.671246130836819, -0.6706622862890306, -0.6387304074542224, -0.6369956465693534, -0.6200008439481293, -0.6117564136500754, -0.5281717522634557, -0.5044658629464512, -0.39675352685597737, -0.38405435466841564, -0.3752849500901142, -0.35224984649351865, -0.3493427224128775, -0.3438536755710756, -0.3224172040135075, -0.3062040126283718, -0.29809283510271567, -0.2678880796260159, -0.2493703754774101, -0.22232814261035927, -0.2088942333747781, -0.20075806892999745, -0.19183555236161492, -0.17242820755043575, -0.12289022551864817, -0.07557171302105573, -0.01266459891890136, 0.04221374671559283, 0.04359685683424694, 0.05080775477602897, 0.07734006834855942, 0.11900864580745882, 0.12015895248162915, 0.12182127099143693, 0.16003706944783047, 0.18515641748394385, 0.1865613909882843, 0.19091548466746602, 0.19829972012676975, 0.2300947353643834, 0.23441569781709215, 0.2855873252542588, 0.3001703199558275, 0.31563494724160523, 0.31903909605709857, 0.3775637863209194, 0.4100516472082563, 0.4234943540641129, 0.48851814653749703, 0.5024943389018682, 0.5129298204180088, 0.530355466738186, 0.5828152137158222, 0.5866231911821976, 0.6172031097074192, 0.6980320340722189, 0.7420441605773356, 0.7620111803120247, 0.8279746426072462, 0.8389834138745049, 0.8654076293246785, 0.8761689211162249, 0.8851411642707281, 0.9008559492644118, 0.9015907205927955, 0.9311020813035573, 1.1294839079119197, 1.131629387451427, 1.1337694423354374, 1.1447237098396141, 1.198917879901507, 1.2, 1.2, 1.2, 1.2]\n",
      "0.12204760266235615\n"
     ]
    }
   ],
   "source": [
    "def get_trimmed_mean(data, trim=.1):\n",
    "    print(sorted(data))\n",
    "    ind = int(len(data)*trim)\n",
    "    print(ind)\n",
    "    data_trimmed = (sorted(data))[ind:-ind]\n",
    "    print(data_trimmed)\n",
    "    return get_mean(data_trimmed)\n",
    "\n",
    "# trimmed_mean_test = [-10, 1, 1, 2, 3, 4, 5, 5, 6, 20] # trim = .10\n",
    "# print(get_trimmed_mean(trimmed_mean_test, .10)) # 3.375\n",
    "print(get_trimmed_mean(data)) # -0.013374707098353195"
   ]
  },
  {
   "cell_type": "markdown",
   "metadata": {},
   "source": [
    "### Conclusion\n",
    "In this lab, we learned:\n",
    "* How to calculate the mean, and how it is used\n",
    "* How to calculate the median, and how it is used\n",
    "* How to calculate the mode, and how it is used\n",
    "* How to calculate the trimmed mean, and why it is more resistant to outliers  "
   ]
  }
 ],
 "metadata": {
  "kernelspec": {
   "display_name": "Python 3",
   "language": "python",
   "name": "python3"
  },
  "language_info": {
   "codemirror_mode": {
    "name": "ipython",
    "version": 3
   },
   "file_extension": ".py",
   "mimetype": "text/x-python",
   "name": "python",
   "nbconvert_exporter": "python",
   "pygments_lexer": "ipython3",
   "version": "3.6.6"
  }
 },
 "nbformat": 4,
 "nbformat_minor": 2
}
